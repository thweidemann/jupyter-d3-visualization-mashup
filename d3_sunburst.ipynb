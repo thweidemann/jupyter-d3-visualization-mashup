{
 "cells": [
  {
   "cell_type": "markdown",
   "metadata": {},
   "source": [
    "## Jupyter D3 Sunburst example\n",
    "\n",
    "This is a notebook that demonstrates how to retrieve delimited categories like for example \\\n",
    "**\"Die-Cast & Toy Vehicles > Toy Vehicles & Accessories > Scaled Models > Vehicles\"** \\\n",
    "from an Elasticsearch index or a file and display the categories in a nice interactive D3js sunburst graphic. \\\n",
    "This is more a technologie mashup than a real use case. \\\n",
    "This is also **not** a detailed tutorial that covers all the required steps but more an overview of what is possible. \n",
    "\n",
    "There are 2 possible workflows:\n",
    "- one which retrieves the data from an ElasticSearch index that contains the required data\n",
    "- another one which uses the data from a demo data file\n",
    "\n",
    "**Setup with ElasticSearch (Elastic path)**\\\n",
    "If you have an Elasticsearch server up and running that contains produst with a category path, then you can just adjust the variables in the first cell to the correct values for your data set.\n",
    "\n",
    "**Setup with demo data set (File path)**\\\n",
    "If you don´t have an Elasticsearch server with a product index that contains a category path, then just set the variable **useElastic** to **False** and the notebook will use the static demo dataset.\n",
    "\n",
    "**Sources**\\\n",
    "The following sources inspired me when I setup this example notebook:\\\n",
    "https://nbviewer.jupyter.org/github/soxofaan/jupyter-playground/blob/master/jupyter-custom-d3-visualization/jupyter-custom-d3-visualization.ipynb \\\n",
    "https://observablehq.com/@d3/zoomable-sunburst "
   ]
  },
  {
   "cell_type": "code",
   "execution_count": null,
   "metadata": {},
   "outputs": [],
   "source": [
    "# General block (Elastic path) AND (File path)\n",
    "from IPython.display import display, Javascript, HTML\n",
    "import json\n",
    "import requests\n",
    "\n",
    "debug=True\n",
    "useElastic=False\n",
    "indexName=\"amazon-fashion\"\n",
    "groupField=\"amazon_category_and_sub_category.keyword\"\n",
    "splitChar=chr(62)\n",
    "maxAggs=10000"
   ]
  },
  {
   "cell_type": "code",
   "execution_count": null,
   "metadata": {},
   "outputs": [],
   "source": [
    "# (Elastic path)\n",
    "if useElastic:\n",
    "    from elasticsearch import Elasticsearch\n",
    "    # domain name, or server's IP address, goes in the 'hosts' list\n",
    "    elastic_client = Elasticsearch(hosts=[\"http://localhost:9200/\"], timeout=20)\n",
    "    # Query to get the aggregated field data\n",
    "    query_body ={\n",
    "      \"size\": 0,\n",
    "      \"query\": {\n",
    "        \"match_all\": {}\n",
    "      },\n",
    "      \"aggs\": {\n",
    "        \"category_counts\": {\n",
    "          \"terms\": {\n",
    "            \"field\": groupField,\n",
    "            \"size\": maxAggs\n",
    "          }\n",
    "        }\n",
    "      }\n",
    "    }\n",
    "    response = elastic_client.search(index=indexName, body=query_body)\n",
    "    lst = response[\"aggregations\"][\"category_counts\"][\"buckets\"]\n",
    "    if debug:\n",
    "        print(json.dumps(lst, indent=4))"
   ]
  },
  {
   "cell_type": "code",
   "execution_count": null,
   "metadata": {},
   "outputs": [],
   "source": [
    "# (File path)\n",
    "if not useElastic:\n",
    "    with open('demodata.json', 'r') as f:\n",
    "        lst = json.load(f)\n",
    "    if debug:\n",
    "        print(json.dumps(lst, indent=4))"
   ]
  },
  {
   "cell_type": "code",
   "execution_count": null,
   "metadata": {},
   "outputs": [],
   "source": [
    "# (Elastic path)\n",
    "if useElastic and response[\"aggregations\"][\"category_counts\"][\"sum_other_doc_count\"] > 0:\n",
    "    print(\"------------- ATTENTION! -------------\")  \n",
    "    print(\"Not all aggregations retrieved!\")   \n",
    "    print(\"------------- ATTENTION! -------------\") "
   ]
  },
  {
   "cell_type": "code",
   "execution_count": null,
   "metadata": {},
   "outputs": [],
   "source": [
    "# General block (Elastic path) AND (File path)\n",
    "\n",
    "# Code to transform the list of category pathes to an hierarchical json\n",
    "\n",
    "# Search for a matching name in the current list.\n",
    "# If it doesn't exist, create it.\n",
    "def insert(lst, name, idnum):\n",
    "    for d in lst:\n",
    "        if d['name'] == name:\n",
    "            break\n",
    "    else:\n",
    "        d = {'name': name, 'size': idnum, 'children': []}\n",
    "        lst.append(d)\n",
    "    return d['children']\n",
    "\n",
    "# Remove empty child lists\n",
    "def prune(lst):\n",
    "    for d in lst:\n",
    "        if d['children']:\n",
    "            d.pop(\"size\")\n",
    "            prune(d['children'])\n",
    "        else:\n",
    "            del d['children']\n",
    "\n",
    "# Insert the data into the master list\n",
    "master = []\n",
    "for items in lst:\n",
    "    names = \"Catalog\" + splitChar + items[\"key\"]\n",
    "    idnum = items[\"doc_count\"]\n",
    "    lst = master\n",
    "    for name in [s.strip() for s in names.split(splitChar)]:\n",
    "        lst = insert(lst, name, idnum)\n",
    "\n",
    "prune(master)\n",
    "\n",
    "# Get the top level dict from the master list\n",
    "data = master[0]\n",
    "if debug:\n",
    "    print(json.dumps(data, indent=4))"
   ]
  },
  {
   "cell_type": "code",
   "execution_count": null,
   "metadata": {
    "scrolled": true
   },
   "outputs": [],
   "source": [
    "# General block (Elastic path) AND (File path)\n",
    "# the javascript and css code ist stored in external files\n",
    "# just use it like a component\n",
    "display(Javascript(\"require.config({paths: {d3: 'https://d3js.org/d3.v5.min'}});\"))\n",
    "display(Javascript(filename=\"sunburst.js\"))\n",
    "display(HTML(filename=\"sunburst.css.html\"))"
   ]
  },
  {
   "cell_type": "code",
   "execution_count": null,
   "metadata": {},
   "outputs": [],
   "source": [
    "# General block (Elastic path) AND (File path)\n",
    "# Function to draw the sunbrust\n",
    "def draw_sunburst(data, width=600):\n",
    "    display(Javascript(\"\"\"\n",
    "        (function(element){\n",
    "            require(['sunburst'], function(sunburst) {\n",
    "                sunburst(element.get(0), %s, %d);\n",
    "            });\n",
    "        })(element);\n",
    "    \"\"\" % (json.dumps(data), width)))"
   ]
  },
  {
   "cell_type": "code",
   "execution_count": null,
   "metadata": {},
   "outputs": [],
   "source": [
    "# General block (Elastic path) AND (File path)\n",
    "# Execute the draw function to display the sunburst\n",
    "draw_sunburst(data, width=1000)"
   ]
  }
 ],
 "metadata": {
  "kernelspec": {
   "display_name": "Python 3",
   "language": "python",
   "name": "python3"
  },
  "language_info": {
   "codemirror_mode": {
    "name": "ipython",
    "version": 3
   },
   "file_extension": ".py",
   "mimetype": "text/x-python",
   "name": "python",
   "nbconvert_exporter": "python",
   "pygments_lexer": "ipython3",
   "version": "3.7.3"
  }
 },
 "nbformat": 4,
 "nbformat_minor": 4
}
